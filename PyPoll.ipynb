{
 "cells": [
  {
   "cell_type": "code",
   "execution_count": 1,
   "metadata": {},
   "outputs": [],
   "source": [
    "import csv\n",
    "import os"
   ]
  },
  {
   "cell_type": "code",
   "execution_count": 2,
   "metadata": {},
   "outputs": [],
   "source": [
    "file = 'PyPoll/Resources/election_data.csv'"
   ]
  },
  {
   "cell_type": "code",
   "execution_count": 3,
   "metadata": {},
   "outputs": [],
   "source": [
    "filej = os.path.join(file)"
   ]
  },
  {
   "cell_type": "code",
   "execution_count": 4,
   "metadata": {},
   "outputs": [
    {
     "name": "stdout",
     "output_type": "stream",
     "text": [
      "3521002\n",
      "2218231\n",
      "704200\n",
      "492940\n",
      "105630\n"
     ]
    }
   ],
   "source": [
    "a = []\n",
    "candidates = []\n",
    "khan = []\n",
    "correy = []\n",
    "li = []\n",
    "tooley = []\n",
    "\n",
    "with open(filej) as csvfile:\n",
    "    csvreader = csv.reader(csvfile, delimiter = ',')\n",
    "    for row in csvreader:\n",
    "        a.append(row[1])\n",
    "        \n",
    "        \n",
    "        if row[2] == 'Khan':\n",
    "            khan.append(list(candidates))\n",
    "            \n",
    "        if row[2] == 'Correy':\n",
    "            correy.append(list(candidates))\n",
    "            \n",
    "        if row[2] == 'Li':\n",
    "            li.append(list(candidates))\n",
    "            \n",
    "        if row[2] == \"O'Tooley\":\n",
    "            tooley.append(list(candidates))\n",
    "            \n",
    "print(len(a))\n",
    "print(len(khan))\n",
    "print(len(correy))\n",
    "print(len(li))\n",
    "print(len(tooley))\n",
    "\n",
    "\n",
    "\n"
   ]
  },
  {
   "cell_type": "code",
   "execution_count": 5,
   "metadata": {},
   "outputs": [
    {
     "name": "stdout",
     "output_type": "stream",
     "text": [
      "63%\n",
      "20%\n",
      "14%\n",
      "3%\n"
     ]
    }
   ],
   "source": [
    "k = 0\n",
    "c = 0\n",
    "l = 0\n",
    "t = 0\n",
    "\n",
    "k = round((len(khan)/len(a)), 2)\n",
    "pk = \"{:.0%}\".format(k)\n",
    "\n",
    "c = round((len(correy)/len(a)), 2)\n",
    "pc = \"{:.0%}\".format(c)\n",
    "\n",
    "l = round((len(li)/len(a)), 2)\n",
    "pl = \"{:.0%}\".format(l)\n",
    "\n",
    "\n",
    "t = round((len(tooley)/len(a)), 2)\n",
    "pt = \"{:.0%}\".format(t)\n",
    "\n",
    "print(pk)\n",
    "print(pc)\n",
    "print(pl)\n",
    "print(pt)"
   ]
  },
  {
   "cell_type": "code",
   "execution_count": 6,
   "metadata": {},
   "outputs": [
    {
     "name": "stdout",
     "output_type": "stream",
     "text": [
      "Election Results\n",
      "-------------------------\n",
      "Total Votes: 3521002\n",
      "-------------------------\n",
      "Khan: 63% 2218231\n",
      "Correy: 20% 704200\n",
      "Li: 14% 492940\n",
      "O'Tooley: 3% 105630\n",
      "-------------------------\n",
      "Winner: Khan\n",
      "-------------------------\n"
     ]
    }
   ],
   "source": [
    "print('Election Results')\n",
    "print('-------------------------')\n",
    "print('Total Votes: ' + str(len(a)))\n",
    "print('-------------------------')\n",
    "print('Khan: ' + str(pk) + ' ' + str(len(khan)))\n",
    "print('Correy: ' + str(pc) + ' '  + str(len(correy)))\n",
    "print('Li: ' + str(pl) + ' '  + str(len(li)))\n",
    "print(\"O'Tooley: \" + str(pt) + ' '  + str(len(tooley)))\n",
    "print('-------------------------')\n",
    "print('Winner: Khan')\n",
    "print('-------------------------')"
   ]
  },
  {
   "cell_type": "code",
   "execution_count": 7,
   "metadata": {},
   "outputs": [],
   "source": [
    "cleaned = zip(a, pk, pc, pl, pt)\n",
    "\n",
    "output_file = os.path.join(\"results_final.csv\")\n",
    "\n",
    "\n",
    "with open(output_file, \"w\") as datafile:\n",
    "    writer = csv.writer(datafile)\n",
    "\n",
    "    # Write the header row\n",
    "    writer.writerow(['Total', 'Khan_Percentage', 'Correy_Percentage', 'Li_Percentage', \"O'Tooley_Percentage\"])\n",
    "    \n",
    "    writer.writerows(cleaned)\n",
    "    "
   ]
  },
  {
   "cell_type": "code",
   "execution_count": null,
   "metadata": {},
   "outputs": [],
   "source": []
  }
 ],
 "metadata": {
  "kernelspec": {
   "display_name": "Python 3",
   "language": "python",
   "name": "python3"
  },
  "language_info": {
   "codemirror_mode": {
    "name": "ipython",
    "version": 3
   },
   "file_extension": ".py",
   "mimetype": "text/x-python",
   "name": "python",
   "nbconvert_exporter": "python",
   "pygments_lexer": "ipython3",
   "version": "3.7.3"
  }
 },
 "nbformat": 4,
 "nbformat_minor": 4
}
