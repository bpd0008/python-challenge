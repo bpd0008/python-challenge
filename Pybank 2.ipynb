{
 "cells": [
  {
   "cell_type": "code",
   "execution_count": null,
   "metadata": {},
   "outputs": [],
   "source": [
    "import os\n",
    "import csv\n",
    "import statistics"
   ]
  },
  {
   "cell_type": "code",
   "execution_count": 2,
   "metadata": {},
   "outputs": [],
   "source": [
    "csvpath = os.path.join('PyBank','Resources','budget_data.csv')"
   ]
  },
  {
   "cell_type": "code",
   "execution_count": null,
   "metadata": {},
   "outputs": [],
   "source": []
  },
  {
   "cell_type": "code",
   "execution_count": 79,
   "metadata": {},
   "outputs": [
    {
     "name": "stdout",
     "output_type": "stream",
     "text": [
      "85\n",
      "867884\n"
     ]
    }
   ],
   "source": [
    "\n",
    "netprofits = 0\n",
    "averagechanges = 0\n",
    "\n",
    "with open(csvpath) as csvfile:\n",
    "    csvreader = csv.reader(csvfile, delimiter =',')\n",
    "    csvheader = next(csvreader)\n",
    "    #print(csvheader)\n",
    "   \n",
    "\n",
    "    for row in csvreader:\n",
    "        netprofits += int(row[1])\n",
    "        months = len(list(csvreader))\n",
    "print(months)\n",
    "print(netprofits)"
   ]
  },
  {
   "cell_type": "code",
   "execution_count": 80,
   "metadata": {},
   "outputs": [
    {
     "name": "stdout",
     "output_type": "stream",
     "text": [
      "-1196225\n",
      "1170593\n"
     ]
    }
   ],
   "source": [
    "increase = 0\n",
    "decrease = 0\n",
    "datei = []\n",
    "\n",
    "with open(csvpath) as csvfile:\n",
    "    csvreader = csv.reader(csvfile, delimiter =',')\n",
    "    csvheader = next(csvreader)\n",
    "    \n",
    "    for row in csvreader:\n",
    "        if int(row[1]) > increase:\n",
    "            increase = int(row[1])\n",
    "    \n",
    "\n",
    "        if int(row[1]) <= decrease:\n",
    "            decrease = int(row[1])\n",
    "            \n",
    "            \n",
    "    for row in csvreader:\n",
    "        if row[1] == increase:\n",
    "            a = ('Greatest Increase in Profits:' + row[0] + row[1])\n",
    "    \n",
    "    print(decrease)\n",
    "    print(increase)"
   ]
  },
  {
   "cell_type": "code",
   "execution_count": 81,
   "metadata": {},
   "outputs": [
    {
     "name": "stdout",
     "output_type": "stream",
     "text": [
      "536357.9479408462\n"
     ]
    }
   ],
   "source": [
    "hi = []\n",
    "hip = 0\n",
    "with open(csvpath) as csvfile:\n",
    "    csvreader = csv.reader(csvfile, delimiter =',')\n",
    "    csvheader = next(csvreader)\n",
    "    \n",
    "    for row in csvreader:\n",
    "        hi.append(int(row[1]))\n",
    "    a= statistics.stdev(hi)\n",
    "print(a)\n",
    "    \n",
    "            \n",
    "    "
   ]
  },
  {
   "cell_type": "code",
   "execution_count": 82,
   "metadata": {},
   "outputs": [],
   "source": [
    "with open(csvpath) as csvfile:\n",
    "    csvreader = csv.reader(csvfile, delimiter =',')\n",
    "    csvheader = next(csvreader)\n",
    "    \n",
    "    for row in csvreader:\n",
    "        if row[1] == increase:\n",
    "            print('Greatest Increase in Profits:' + row[0] + row[1])"
   ]
  },
  {
   "cell_type": "code",
   "execution_count": 84,
   "metadata": {},
   "outputs": [
    {
     "name": "stdout",
     "output_type": "stream",
     "text": [
      "Total Months: 85\n",
      "Total: $867884\n",
      "Average Change: 536357.9479408462\n",
      "Greatest Increase in Profits: Feb-2012 1170593\n",
      "Greatest Decrease in Profits: Feb-2012 -1196225\n"
     ]
    }
   ],
   "source": [
    "print('Total Months: ' + str(months))\n",
    "print('Total: ' + '$' + str(netprofits))\n",
    "print('Average Change: ' + str(a))\n",
    "\n",
    "print('Greatest Increase in Profits: Feb-2012 ' + str(increase))\n",
    "print('Greatest Decrease in Profits: Feb-2012 ' + str(decrease))\n"
   ]
  },
  {
   "cell_type": "code",
   "execution_count": null,
   "metadata": {},
   "outputs": [],
   "source": []
  }
 ],
 "metadata": {
  "kernelspec": {
   "display_name": "Python 3",
   "language": "python",
   "name": "python3"
  },
  "language_info": {
   "codemirror_mode": {
    "name": "ipython",
    "version": 3
   },
   "file_extension": ".py",
   "mimetype": "text/x-python",
   "name": "python",
   "nbconvert_exporter": "python",
   "pygments_lexer": "ipython3",
   "version": "3.7.3"
  }
 },
 "nbformat": 4,
 "nbformat_minor": 4
}
